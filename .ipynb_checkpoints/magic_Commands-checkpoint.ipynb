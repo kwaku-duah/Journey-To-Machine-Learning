{
 "cells": [
  {
   "cell_type": "markdown",
   "id": "58a855ca-2f73-499d-8c17-6ac2a245ba61",
   "metadata": {},
   "source": [
    "# MAGIC FUNCTIONS IN IPYTHON\n",
    "\n",
    "## preceding of specific commands with % symbol\n",
    "\n",
    "a) Precede a line with %\n",
    "b) Precede a cell with %% to affect the entire contents"
   ]
  },
  {
   "cell_type": "code",
   "execution_count": 13,
   "id": "927ea569-96fe-4571-8d78-8ec7b27c8af4",
   "metadata": {},
   "outputs": [
    {
     "name": "stdout",
     "output_type": "stream",
     "text": [
      "myscript.py\n"
     ]
    }
   ],
   "source": [
    "ls"
   ]
  },
  {
   "cell_type": "code",
   "execution_count": 14,
   "id": "1a465d2e-9fc1-45de-8066-893e6982007d",
   "metadata": {},
   "outputs": [
    {
     "name": "stdout",
     "output_type": "stream",
     "text": [
      "1 is a squared of 1\n",
      "2 is a squared of 4\n",
      "3 is a squared of 9\n"
     ]
    }
   ],
   "source": [
    "%run myscript.py"
   ]
  },
  {
   "cell_type": "code",
   "execution_count": 15,
   "id": "818174c0-37aa-4ece-b7c4-e0e585365b7a",
   "metadata": {},
   "outputs": [
    {
     "data": {
      "text/plain": [
       "25"
      ]
     },
     "execution_count": 15,
     "metadata": {},
     "output_type": "execute_result"
    }
   ],
   "source": [
    "square(5)"
   ]
  },
  {
   "cell_type": "code",
   "execution_count": 29,
   "id": "37ad7e25-8f4b-4d21-bb0a-f45216f9c45c",
   "metadata": {},
   "outputs": [
    {
     "name": "stdout",
     "output_type": "stream",
     "text": [
      "69.7 μs ± 4.22 μs per loop (mean ± std. dev. of 7 runs, 10,000 loops each)\n"
     ]
    }
   ],
   "source": [
    "## Timing Code Execution\n",
    "\"\"\"usage of single %timeit determines the execution time of the code \n",
    "right after it, the line right after it.\"\"\"\n",
    "\n",
    "# Example using list comprehension;\n",
    "%timeit L = [l **2 for l in range(1000)]\n"
   ]
  },
  {
   "cell_type": "code",
   "execution_count": 28,
   "id": "ac93a7dc-798c-4365-9187-f2cc19c7e9ce",
   "metadata": {},
   "outputs": [
    {
     "name": "stdout",
     "output_type": "stream",
     "text": [
      "74.5 μs ± 3.17 μs per loop (mean ± std. dev. of 7 runs, 10,000 loops each)\n"
     ]
    }
   ],
   "source": [
    "%%timeit\n",
    "L = []\n",
    "for n in range(1000):\n",
    "    L.append(n **2)"
   ]
  },
  {
   "cell_type": "code",
   "execution_count": 35,
   "id": "cf3fc9fd-55e5-4960-8d29-c90982c63275",
   "metadata": {},
   "outputs": [],
   "source": [
    "import math"
   ]
  },
  {
   "cell_type": "code",
   "execution_count": 36,
   "id": "67e1686f-2c54-42ff-87d4-f6541c8d15a6",
   "metadata": {},
   "outputs": [
    {
     "data": {
      "text/plain": [
       "0.9092974268256817"
      ]
     },
     "execution_count": 36,
     "metadata": {},
     "output_type": "execute_result"
    }
   ],
   "source": [
    "math.sin(2)"
   ]
  },
  {
   "cell_type": "code",
   "execution_count": 37,
   "id": "4bc03175-551b-4cbb-a6fd-bd953153416c",
   "metadata": {},
   "outputs": [
    {
     "data": {
      "text/plain": [
       "-0.4161468365471424"
      ]
     },
     "execution_count": 37,
     "metadata": {},
     "output_type": "execute_result"
    }
   ],
   "source": [
    "math.cos(2)"
   ]
  },
  {
   "cell_type": "markdown",
   "id": "f4284fec-b43d-4091-81c7-985d272366b7",
   "metadata": {},
   "source": [
    "print(_)"
   ]
  },
  {
   "cell_type": "code",
   "execution_count": 38,
   "id": "049df550-a0a6-4302-8888-585980e6347c",
   "metadata": {},
   "outputs": [
    {
     "name": "stdout",
     "output_type": "stream",
     "text": [
      "Hello world\n"
     ]
    }
   ],
   "source": [
    "print(\"Hello world\")"
   ]
  },
  {
   "cell_type": "code",
   "execution_count": 41,
   "id": "7f0435d8-2244-4cda-b38b-7a7e360b0d38",
   "metadata": {},
   "outputs": [
    {
     "name": "stdout",
     "output_type": "stream",
     "text": [
      "Available line magics:\n",
      "%alias  %alias_magic  %autoawait  %autocall  %automagic  %autosave  %bookmark  %cat  %cd  %clear  %code_wrap  %colors  %conda  %config  %connect_info  %cp  %debug  %dhist  %dirs  %doctest_mode  %ed  %edit  %env  %gui  %hist  %history  %killbgscripts  %ldir  %less  %lf  %lk  %ll  %load  %load_ext  %loadpy  %logoff  %logon  %logstart  %logstate  %logstop  %ls  %lsmagic  %lx  %macro  %magic  %mamba  %man  %matplotlib  %micromamba  %mkdir  %more  %mv  %notebook  %page  %pastebin  %pdb  %pdef  %pdoc  %pfile  %pinfo  %pinfo2  %pip  %popd  %pprint  %precision  %prun  %psearch  %psource  %pushd  %pwd  %pycat  %pylab  %qtconsole  %quickref  %recall  %rehashx  %reload_ext  %rep  %rerun  %reset  %reset_selective  %rm  %rmdir  %run  %save  %sc  %set_env  %store  %sx  %system  %tb  %time  %timeit  %unalias  %unload_ext  %uv  %who  %who_ls  %whos  %xdel  %xmode\n",
      "\n",
      "Available cell magics:\n",
      "%%!  %%HTML  %%SVG  %%bash  %%capture  %%code_wrap  %%debug  %%file  %%html  %%javascript  %%js  %%latex  %%markdown  %%perl  %%prun  %%pypy  %%python  %%python2  %%python3  %%ruby  %%script  %%sh  %%svg  %%sx  %%system  %%time  %%timeit  %%writefile\n",
      "\n",
      "Automagic is ON, % prefix IS NOT needed for line magics.\n"
     ]
    }
   ],
   "source": [
    "print(___)"
   ]
  },
  {
   "cell_type": "code",
   "execution_count": 42,
   "id": "5e9d1ef0-c911-4b26-8b09-00f4216e9c90",
   "metadata": {},
   "outputs": [
    {
     "data": {
      "text/plain": [
       "['',\n",
       " \"get_ipython().run_line_magic('pwd', '')\",\n",
       " \"get_ipython().run_line_magic('cd', 'Energy')\",\n",
       " \"get_ipython().run_line_magic('cd', 'Energy')\",\n",
       " \"get_ipython().run_line_magic('ls', '')\",\n",
       " \"get_ipython().run_line_magic('ls', '')\",\n",
       " \"get_ipython().run_line_magic('pwd', '')\",\n",
       " \"get_ipython().run_line_magic('cd', '..')\",\n",
       " \"get_ipython().run_line_magic('cd', 'ipython_commands/')\",\n",
       " \"get_ipython().run_line_magic('pwd', '')\",\n",
       " \"get_ipython().run_line_magic('clear', '')\",\n",
       " \"get_ipython().run_line_magic('ls', '')\",\n",
       " \"get_ipython().run_line_magic('pwd', '')\",\n",
       " \"get_ipython().run_line_magic('ls', '')\",\n",
       " \"get_ipython().run_line_magic('run', 'myscript.py')\",\n",
       " 'square(5)',\n",
       " \"get_ipython().run_line_magic('pinfo', '%run')\",\n",
       " \"get_ipython().run_line_magic('clear', '')\",\n",
       " \"get_ipython().run_line_magic('clear', '')\",\n",
       " '## Timing Code Execution\\nusage of single %timeit determines the execution time of the code \\nright after it, the line right after it.\\n\\nExample using list comprehension;',\n",
       " \"## Timing Code Execution\\nusage of single %timeit determines the execution time of the code \\nright after it, the line right after it.\\n\\nExample using list comprehension;\\nget_ipython().run_line_magic('timeit', 'L = [l **2 for l in range(1000)]')\",\n",
       " '## Timing Code Execution\\n\"\"\"usage of single %timeit determines the execution time of the code \\nright after it, the line right after it.\"\"\"\\n\\nExample using list comprehension;\\nget_ipython().run_line_magic(\\'timeit\\', \\'L = [l **2 for l in range(1000)]\\')',\n",
       " '## Timing Code Execution\\n\"\"\"usage of single %timeit determines the execution time of the code \\nright after it, the line right after it.\"\"\"\\n\\n# Example using list comprehension;\\nget_ipython().run_line_magic(\\'timeit\\', \\'L = [l **2 for l in range(1000)]\\')',\n",
       " '## Timing Code Execution\\n\"\"\"usage of single %timeit determines the execution time of the code \\nright after it, the line right after it.\"\"\"\\n\\n# Example using list comprehension;\\nget_ipython().run_line_magic(\\'timeit\\', \\'L = [l **2 for l in range(1,4000)]\\')',\n",
       " \"# using a for loop to practice a multi line magic function\\n\\nget_ipython().run_line_magic('%timeit', '')\\nL = []\",\n",
       " \"# using a for loop to practice a multi line magic function\\n\\nget_ipython().run_line_magic('%timeit', '')\\nL = []\",\n",
       " \"# using a for loop to practice a multi line magic function\\n\\nget_ipython().run_line_magic('%timeit', '')\\nL = []\\nfor n in range(1000):\\n    L.append(n **2)\",\n",
       " \"# using a for loop to practice a multi line magic function\\n\\nget_ipython().run_line_magic('%timeit', '')\\nL = []\\nfor n in range(1000):\\n    L.append(n **2)\",\n",
       " \"get_ipython().run_cell_magic('timeit', '', 'L = []\\\\nfor n in range(1000):\\\\n    L.append(n **2)\\\\n')\",\n",
       " '## Timing Code Execution\\n\"\"\"usage of single %timeit determines the execution time of the code \\nright after it, the line right after it.\"\"\"\\n\\n# Example using list comprehension;\\nget_ipython().run_line_magic(\\'timeit\\', \\'L = [l **2 for l in range(1000)]\\')',\n",
       " \"get_ipython().run_line_magic('pinfo', '%timeit')\",\n",
       " \"get_ipython().run_line_magic('magic', '')\",\n",
       " \"get_ipython().run_line_magic('lmagic', '')\",\n",
       " \"get_ipython().run_line_magic('lmagic', '')\",\n",
       " \"get_ipython().run_line_magic('lsmagic', '')\",\n",
       " 'import math',\n",
       " 'math.sin(2)',\n",
       " 'math.cos(2)',\n",
       " 'print(\"Hello world\")',\n",
       " 'print(_)',\n",
       " 'print(__)',\n",
       " 'print(___)',\n",
       " 'In']"
      ]
     },
     "execution_count": 42,
     "metadata": {},
     "output_type": "execute_result"
    }
   ],
   "source": [
    "In"
   ]
  },
  {
   "cell_type": "code",
   "execution_count": 43,
   "id": "834b192b-3a68-46f4-8558-131fc612ce24",
   "metadata": {},
   "outputs": [
    {
     "data": {
      "text/plain": [
       "{1: '/home/kduah/Desktop',\n",
       " 6: '/home/kduah/Desktop/Energy',\n",
       " 9: '/home/kduah/Desktop/ipython_commands',\n",
       " 12: '/home/kduah/Desktop/ipython_commands',\n",
       " 15: 25,\n",
       " 34: Available line magics:\n",
       "%alias  %alias_magic  %autoawait  %autocall  %automagic  %autosave  %bookmark  %cat  %cd  %clear  %code_wrap  %colors  %conda  %config  %connect_info  %cp  %debug  %dhist  %dirs  %doctest_mode  %ed  %edit  %env  %gui  %hist  %history  %killbgscripts  %ldir  %less  %lf  %lk  %ll  %load  %load_ext  %loadpy  %logoff  %logon  %logstart  %logstate  %logstop  %ls  %lsmagic  %lx  %macro  %magic  %mamba  %man  %matplotlib  %micromamba  %mkdir  %more  %mv  %notebook  %page  %pastebin  %pdb  %pdef  %pdoc  %pfile  %pinfo  %pinfo2  %pip  %popd  %pprint  %precision  %prun  %psearch  %psource  %pushd  %pwd  %pycat  %pylab  %qtconsole  %quickref  %recall  %rehashx  %reload_ext  %rep  %rerun  %reset  %reset_selective  %rm  %rmdir  %run  %save  %sc  %set_env  %store  %sx  %system  %tb  %time  %timeit  %unalias  %unload_ext  %uv  %who  %who_ls  %whos  %xdel  %xmode\n",
       "\n",
       "Available cell magics:\n",
       "%%!  %%HTML  %%SVG  %%bash  %%capture  %%code_wrap  %%debug  %%file  %%html  %%javascript  %%js  %%latex  %%markdown  %%perl  %%prun  %%pypy  %%python  %%python2  %%python3  %%ruby  %%script  %%sh  %%svg  %%sx  %%system  %%time  %%timeit  %%writefile\n",
       "\n",
       "Automagic is ON, % prefix IS NOT needed for line magics.,\n",
       " 36: 0.9092974268256817,\n",
       " 37: -0.4161468365471424,\n",
       " 42: ['',\n",
       "  \"get_ipython().run_line_magic('pwd', '')\",\n",
       "  \"get_ipython().run_line_magic('cd', 'Energy')\",\n",
       "  \"get_ipython().run_line_magic('cd', 'Energy')\",\n",
       "  \"get_ipython().run_line_magic('ls', '')\",\n",
       "  \"get_ipython().run_line_magic('ls', '')\",\n",
       "  \"get_ipython().run_line_magic('pwd', '')\",\n",
       "  \"get_ipython().run_line_magic('cd', '..')\",\n",
       "  \"get_ipython().run_line_magic('cd', 'ipython_commands/')\",\n",
       "  \"get_ipython().run_line_magic('pwd', '')\",\n",
       "  \"get_ipython().run_line_magic('clear', '')\",\n",
       "  \"get_ipython().run_line_magic('ls', '')\",\n",
       "  \"get_ipython().run_line_magic('pwd', '')\",\n",
       "  \"get_ipython().run_line_magic('ls', '')\",\n",
       "  \"get_ipython().run_line_magic('run', 'myscript.py')\",\n",
       "  'square(5)',\n",
       "  \"get_ipython().run_line_magic('pinfo', '%run')\",\n",
       "  \"get_ipython().run_line_magic('clear', '')\",\n",
       "  \"get_ipython().run_line_magic('clear', '')\",\n",
       "  '## Timing Code Execution\\nusage of single %timeit determines the execution time of the code \\nright after it, the line right after it.\\n\\nExample using list comprehension;',\n",
       "  \"## Timing Code Execution\\nusage of single %timeit determines the execution time of the code \\nright after it, the line right after it.\\n\\nExample using list comprehension;\\nget_ipython().run_line_magic('timeit', 'L = [l **2 for l in range(1000)]')\",\n",
       "  '## Timing Code Execution\\n\"\"\"usage of single %timeit determines the execution time of the code \\nright after it, the line right after it.\"\"\"\\n\\nExample using list comprehension;\\nget_ipython().run_line_magic(\\'timeit\\', \\'L = [l **2 for l in range(1000)]\\')',\n",
       "  '## Timing Code Execution\\n\"\"\"usage of single %timeit determines the execution time of the code \\nright after it, the line right after it.\"\"\"\\n\\n# Example using list comprehension;\\nget_ipython().run_line_magic(\\'timeit\\', \\'L = [l **2 for l in range(1000)]\\')',\n",
       "  '## Timing Code Execution\\n\"\"\"usage of single %timeit determines the execution time of the code \\nright after it, the line right after it.\"\"\"\\n\\n# Example using list comprehension;\\nget_ipython().run_line_magic(\\'timeit\\', \\'L = [l **2 for l in range(1,4000)]\\')',\n",
       "  \"# using a for loop to practice a multi line magic function\\n\\nget_ipython().run_line_magic('%timeit', '')\\nL = []\",\n",
       "  \"# using a for loop to practice a multi line magic function\\n\\nget_ipython().run_line_magic('%timeit', '')\\nL = []\",\n",
       "  \"# using a for loop to practice a multi line magic function\\n\\nget_ipython().run_line_magic('%timeit', '')\\nL = []\\nfor n in range(1000):\\n    L.append(n **2)\",\n",
       "  \"# using a for loop to practice a multi line magic function\\n\\nget_ipython().run_line_magic('%timeit', '')\\nL = []\\nfor n in range(1000):\\n    L.append(n **2)\",\n",
       "  \"get_ipython().run_cell_magic('timeit', '', 'L = []\\\\nfor n in range(1000):\\\\n    L.append(n **2)\\\\n')\",\n",
       "  '## Timing Code Execution\\n\"\"\"usage of single %timeit determines the execution time of the code \\nright after it, the line right after it.\"\"\"\\n\\n# Example using list comprehension;\\nget_ipython().run_line_magic(\\'timeit\\', \\'L = [l **2 for l in range(1000)]\\')',\n",
       "  \"get_ipython().run_line_magic('pinfo', '%timeit')\",\n",
       "  \"get_ipython().run_line_magic('magic', '')\",\n",
       "  \"get_ipython().run_line_magic('lmagic', '')\",\n",
       "  \"get_ipython().run_line_magic('lmagic', '')\",\n",
       "  \"get_ipython().run_line_magic('lsmagic', '')\",\n",
       "  'import math',\n",
       "  'math.sin(2)',\n",
       "  'math.cos(2)',\n",
       "  'print(\"Hello world\")',\n",
       "  'print(_)',\n",
       "  'print(__)',\n",
       "  'print(___)',\n",
       "  'In',\n",
       "  'Out']}"
      ]
     },
     "execution_count": 43,
     "metadata": {},
     "output_type": "execute_result"
    }
   ],
   "source": [
    "Out"
   ]
  },
  {
   "cell_type": "code",
   "execution_count": 44,
   "id": "5d3ed9e6-9185-4a70-b2f6-ed978ab8e514",
   "metadata": {},
   "outputs": [
    {
     "name": "stdout",
     "output_type": "stream",
     "text": [
      "get_ipython().run_line_magic('pwd', '')\n"
     ]
    }
   ],
   "source": [
    "print(In[1])"
   ]
  },
  {
   "cell_type": "code",
   "execution_count": 49,
   "id": "0ae4d15a-d028-4939-b30b-2c55ca4d0600",
   "metadata": {},
   "outputs": [],
   "source": [
    "\"\"\"Suppressing outputs with the semi colon\"\"\"\n",
    "math.sin(2) + math.cos(2);\n",
    "\n",
    "\n"
   ]
  },
  {
   "cell_type": "code",
   "execution_count": 50,
   "id": "e5d96629-552a-4f24-8024-858880eaf24c",
   "metadata": {},
   "outputs": [
    {
     "data": {
      "text/plain": [
       "False"
      ]
     },
     "execution_count": 50,
     "metadata": {},
     "output_type": "execute_result"
    }
   ],
   "source": [
    "49 in Out"
   ]
  },
  {
   "cell_type": "code",
   "execution_count": 51,
   "id": "8d29e7fc-24e2-46b0-a0cd-37a734f1453c",
   "metadata": {},
   "outputs": [
    {
     "data": {
      "text/plain": [
       "\u001b[0;31mDocstring:\u001b[0m\n",
       "::\n",
       "\n",
       "  %history [-n] [-o] [-p] [-t] [-f FILENAME] [-g [PATTERN ...]] [-l [LIMIT]] [-u] [range ...]\n",
       "\n",
       "Print input history (_i<n> variables), with most recent last.\n",
       "\n",
       "By default, input history is printed without line numbers so it can be\n",
       "directly pasted into an editor. Use -n to show them.\n",
       "\n",
       "By default, all input history from the current session is displayed.\n",
       "Ranges of history can be indicated using the syntax:\n",
       "\n",
       "``4``\n",
       "    Line 4, current session\n",
       "``4-6``\n",
       "    Lines 4-6, current session\n",
       "``243/1-5``\n",
       "    Lines 1-5, session 243\n",
       "``~2/7``\n",
       "    Line 7, session 2 before current\n",
       "``~8/1-~6/5``\n",
       "    From the first line of 8 sessions ago, to the fifth line of 6\n",
       "    sessions ago.\n",
       "\n",
       "Multiple ranges can be entered, separated by spaces\n",
       "\n",
       "The same syntax is used by %macro, %save, %edit, %rerun\n",
       "\n",
       "Examples\n",
       "--------\n",
       "::\n",
       "\n",
       "  In [6]: %history -n 4-6\n",
       "  4:a = 12\n",
       "  5:print(a**2)\n",
       "  6:%history -n 4-6\n",
       "\n",
       "positional arguments:\n",
       "  range\n",
       "\n",
       "options:\n",
       "  -n                  print line numbers for each input. This feature is only available if numbered prompts are in use.\n",
       "  -o                  also print outputs for each input.\n",
       "  -p                  print classic '>>>' python prompts before each input. This is useful for making documentation, and in conjunction with -o, for producing\n",
       "                      doctest-ready output.\n",
       "  -t                  print the 'translated' history, as IPython understands it. IPython filters your input and converts it all into valid Python source before\n",
       "                      executing it (things like magics or aliases are turned into function calls, for example). With this option, you'll see the native history\n",
       "                      instead of the user-entered version: '%cd /' will be seen as 'get_ipython().run_line_magic(\"cd\", \"/\")' instead of '%cd /'.\n",
       "  -f FILENAME         FILENAME: instead of printing the output to the screen, redirect it to the given file. The file is always overwritten, though *when it can*,\n",
       "                      IPython asks for confirmation first. In particular, running the command 'history -f FILENAME' from the IPython Notebook interface will replace\n",
       "                      FILENAME even if it already exists *without* confirmation.\n",
       "  -g <[PATTERN ...]>  treat the arg as a glob pattern to search for in (full) history. This includes the saved history (almost all commands ever written). The pattern\n",
       "                      may contain '?' to match one unknown character and '*' to match any number of unknown characters. Use '%hist -g' to show full saved history (may\n",
       "                      be very long).\n",
       "  -l <[LIMIT]>        get the last n lines from all sessions. Specify n as a single arg, or the default is the last 10 lines.\n",
       "  -u                  when searching history using `-g`, show only unique history.\n",
       "\u001b[0;31mFile:\u001b[0m      ~/Desktop/machine-learning/lib/python3.12/site-packages/IPython/core/magics/history.py"
      ]
     },
     "metadata": {},
     "output_type": "display_data"
    }
   ],
   "source": [
    "%history?"
   ]
  },
  {
   "cell_type": "code",
   "execution_count": 52,
   "id": "13069f43-2ab3-4a0c-8e7d-86f88ffe72cc",
   "metadata": {},
   "outputs": [
    {
     "name": "stdout",
     "output_type": "stream",
     "text": [
      "   1: pwd\n",
      "   2: cd Energy\n",
      "   3: cd Energy\n"
     ]
    }
   ],
   "source": [
    "%history -n 1-3"
   ]
  },
  {
   "cell_type": "code",
   "execution_count": 55,
   "id": "1000e54f-d14a-4b1c-bbda-1226c440408c",
   "metadata": {},
   "outputs": [
    {
     "name": "stdout",
     "output_type": "stream",
     "text": [
      "hello world\n"
     ]
    }
   ],
   "source": [
    "!echo \"hello world\""
   ]
  },
  {
   "cell_type": "code",
   "execution_count": 56,
   "id": "c2fe449d-9fa7-420c-b44f-691eb3ffebd8",
   "metadata": {},
   "outputs": [
    {
     "name": "stdout",
     "output_type": "stream",
     "text": [
      "Hello python\n"
     ]
    }
   ],
   "source": [
    "message = \"Hello python\"\n",
    "!echo {message}"
   ]
  },
  {
   "cell_type": "code",
   "execution_count": 72,
   "id": "57fa1ae0-39dd-4c61-b2b1-a7e719f58d53",
   "metadata": {},
   "outputs": [
    {
     "name": "stdout",
     "output_type": "stream",
     "text": [
      "Exception reporting mode: Verbose\n"
     ]
    }
   ],
   "source": [
    "%xmode Verbose"
   ]
  },
  {
   "cell_type": "code",
   "execution_count": 73,
   "id": "66549dc9-deb0-43c2-9082-88902f40af8e",
   "metadata": {},
   "outputs": [
    {
     "name": "stdout",
     "output_type": "stream",
     "text": [
      "> \u001b[0;32m/tmp/ipykernel_113627/3451128103.py\u001b[0m(2)\u001b[0;36mfunc1\u001b[0;34m()\u001b[0m\n",
      "\u001b[0;32m      1 \u001b[0;31m\u001b[0;32mdef\u001b[0m \u001b[0mfunc1\u001b[0m\u001b[0;34m(\u001b[0m\u001b[0ma\u001b[0m\u001b[0;34m,\u001b[0m\u001b[0mb\u001b[0m\u001b[0;34m)\u001b[0m\u001b[0;34m:\u001b[0m\u001b[0;34m\u001b[0m\u001b[0;34m\u001b[0m\u001b[0m\n",
      "\u001b[0m\u001b[0;32m----> 2 \u001b[0;31m    \u001b[0;32mreturn\u001b[0m \u001b[0ma\u001b[0m\u001b[0;34m/\u001b[0m\u001b[0mb\u001b[0m\u001b[0;34m\u001b[0m\u001b[0;34m\u001b[0m\u001b[0m\n",
      "\u001b[0m\u001b[0;32m      3 \u001b[0;31m\u001b[0;32mdef\u001b[0m \u001b[0mfunc2\u001b[0m\u001b[0;34m(\u001b[0m\u001b[0mx\u001b[0m\u001b[0;34m)\u001b[0m\u001b[0;34m:\u001b[0m\u001b[0;34m\u001b[0m\u001b[0;34m\u001b[0m\u001b[0m\n",
      "\u001b[0m\u001b[0;32m      4 \u001b[0;31m    \u001b[0ma\u001b[0m \u001b[0;34m=\u001b[0m \u001b[0mx\u001b[0m\u001b[0;34m\u001b[0m\u001b[0;34m\u001b[0m\u001b[0m\n",
      "\u001b[0m\u001b[0;32m      5 \u001b[0;31m    \u001b[0mb\u001b[0m \u001b[0;34m=\u001b[0m \u001b[0mx\u001b[0m\u001b[0;34m-\u001b[0m\u001b[0;36m1\u001b[0m\u001b[0;34m\u001b[0m\u001b[0;34m\u001b[0m\u001b[0m\n",
      "\u001b[0m\n"
     ]
    },
    {
     "name": "stdin",
     "output_type": "stream",
     "text": [
      "ipdb>  print(a)\n"
     ]
    },
    {
     "name": "stdout",
     "output_type": "stream",
     "text": [
      "1\n"
     ]
    },
    {
     "name": "stdin",
     "output_type": "stream",
     "text": [
      "ipdb>  print(b)\n"
     ]
    },
    {
     "name": "stdout",
     "output_type": "stream",
     "text": [
      "0\n"
     ]
    },
    {
     "name": "stdin",
     "output_type": "stream",
     "text": [
      "ipdb>  exit()\n"
     ]
    },
    {
     "ename": "ZeroDivisionError",
     "evalue": "division by zero",
     "output_type": "error",
     "traceback": [
      "\u001b[0;31m---------------------------------------------------------------------------\u001b[0m",
      "\u001b[0;31mZeroDivisionError\u001b[0m                         Traceback (most recent call last)",
      "Cell \u001b[0;32mIn[73], line 8\u001b[0m\n\u001b[1;32m      6\u001b[0m     b \u001b[38;5;241m=\u001b[39m x\u001b[38;5;241m-\u001b[39m\u001b[38;5;241m1\u001b[39m\n\u001b[1;32m      7\u001b[0m     \u001b[38;5;28;01mreturn\u001b[39;00m func1(a,b)\n\u001b[0;32m----> 8\u001b[0m \u001b[43mfunc2\u001b[49m\u001b[43m(\u001b[49m\u001b[38;5;241;43m1\u001b[39;49m\u001b[43m)\u001b[49m\n",
      "Cell \u001b[0;32mIn[73], line 7\u001b[0m, in \u001b[0;36mfunc2\u001b[0;34m(x=1)\u001b[0m\n\u001b[1;32m      5\u001b[0m a \u001b[38;5;241m=\u001b[39m x\n\u001b[1;32m      6\u001b[0m b \u001b[38;5;241m=\u001b[39m x\u001b[38;5;241m-\u001b[39m\u001b[38;5;241m1\u001b[39m\n\u001b[0;32m----> 7\u001b[0m \u001b[38;5;28;01mreturn\u001b[39;00m \u001b[43mfunc1\u001b[49m\u001b[43m(\u001b[49m\u001b[43ma\u001b[49m\u001b[43m,\u001b[49m\u001b[43mb\u001b[49m\u001b[43m)\u001b[49m\n        a \u001b[0;34m= 1\u001b[0m\u001b[0;34m\n        \u001b[0mb \u001b[0;34m= 0\u001b[0m\n",
      "Cell \u001b[0;32mIn[73], line 3\u001b[0m, in \u001b[0;36mfunc1\u001b[0;34m(a=1, b=0)\u001b[0m\n\u001b[1;32m      2\u001b[0m \u001b[38;5;28;01mdef\u001b[39;00m\u001b[38;5;250m \u001b[39m\u001b[38;5;21mfunc1\u001b[39m(a,b):\n\u001b[0;32m----> 3\u001b[0m     \u001b[38;5;28;01mreturn\u001b[39;00m \u001b[43ma\u001b[49m\u001b[38;5;241;43m/\u001b[39;49m\u001b[43mb\u001b[49m\n        a \u001b[0;34m= 1\u001b[0m\u001b[0;34m\n        \u001b[0mb \u001b[0;34m= 0\u001b[0m\n",
      "\u001b[0;31mZeroDivisionError\u001b[0m: division by zero"
     ]
    }
   ],
   "source": [
    "%debug\n",
    "def func1(a,b):\n",
    "    return a/b\n",
    "def func2(x):\n",
    "    a = x\n",
    "    b = x-1\n",
    "    return func1(a,b)\n",
    "func2(1)"
   ]
  },
  {
   "cell_type": "code",
   "execution_count": 77,
   "id": "75a35307-dbb5-4e05-8893-252f25d8fe19",
   "metadata": {},
   "outputs": [
    {
     "name": "stdout",
     "output_type": "stream",
     "text": [
      "Exception reporting mode: Plain\n",
      "Automatic pdb calling has been turned OFF\n"
     ]
    }
   ],
   "source": [
    "%xmode Plain\n",
    "%pdb"
   ]
  },
  {
   "cell_type": "code",
   "execution_count": 78,
   "id": "7be01bfe-66a6-48b0-b6ab-b5118a66cbc3",
   "metadata": {},
   "outputs": [
    {
     "data": {
      "text/plain": [
       "\u001b[0;31mDocstring:\u001b[0m\n",
       "Run the named file inside IPython as a program.\n",
       "\n",
       "Usage::\n",
       "\n",
       "  %run [-n -i -e -G]\n",
       "       [( -t [-N<N>] | -d [-b<N>] | -p [profile options] )]\n",
       "       ( -m mod | filename ) [args]\n",
       "\n",
       "The filename argument should be either a pure Python script (with\n",
       "extension ``.py``), or a file with custom IPython syntax (such as\n",
       "magics). If the latter, the file can be either a script with ``.ipy``\n",
       "extension, or a Jupyter notebook with ``.ipynb`` extension. When running\n",
       "a Jupyter notebook, the output from print statements and other\n",
       "displayed objects will appear in the terminal (even matplotlib figures\n",
       "will open, if a terminal-compliant backend is being used). Note that,\n",
       "at the system command line, the ``jupyter run`` command offers similar\n",
       "functionality for executing notebooks (albeit currently with some\n",
       "differences in supported options).\n",
       "\n",
       "Parameters after the filename are passed as command-line arguments to\n",
       "the program (put in sys.argv). Then, control returns to IPython's\n",
       "prompt.\n",
       "\n",
       "This is similar to running at a system prompt ``python file args``,\n",
       "but with the advantage of giving you IPython's tracebacks, and of\n",
       "loading all variables into your interactive namespace for further use\n",
       "(unless -p is used, see below).\n",
       "\n",
       "The file is executed in a namespace initially consisting only of\n",
       "``__name__=='__main__'`` and sys.argv constructed as indicated. It thus\n",
       "sees its environment as if it were being run as a stand-alone program\n",
       "(except for sharing global objects such as previously imported\n",
       "modules). But after execution, the IPython interactive namespace gets\n",
       "updated with all variables defined in the program (except for __name__\n",
       "and sys.argv). This allows for very convenient loading of code for\n",
       "interactive work, while giving each program a 'clean sheet' to run in.\n",
       "\n",
       "Arguments are expanded using shell-like glob match.  Patterns\n",
       "'*', '?', '[seq]' and '[!seq]' can be used.  Additionally,\n",
       "tilde '~' will be expanded into user's home directory.  Unlike\n",
       "real shells, quotation does not suppress expansions.  Use\n",
       "*two* back slashes (e.g. ``\\\\*``) to suppress expansions.\n",
       "To completely disable these expansions, you can use -G flag.\n",
       "\n",
       "On Windows systems, the use of single quotes `'` when specifying\n",
       "a file is not supported. Use double quotes `\"`.\n",
       "\n",
       "Options:\n",
       "\n",
       "-n\n",
       "  __name__ is NOT set to '__main__', but to the running file's name\n",
       "  without extension (as python does under import).  This allows running\n",
       "  scripts and reloading the definitions in them without calling code\n",
       "  protected by an ``if __name__ == \"__main__\"`` clause.\n",
       "\n",
       "-i\n",
       "  run the file in IPython's namespace instead of an empty one. This\n",
       "  is useful if you are experimenting with code written in a text editor\n",
       "  which depends on variables defined interactively.\n",
       "\n",
       "-e\n",
       "  ignore sys.exit() calls or SystemExit exceptions in the script\n",
       "  being run.  This is particularly useful if IPython is being used to\n",
       "  run unittests, which always exit with a sys.exit() call.  In such\n",
       "  cases you are interested in the output of the test results, not in\n",
       "  seeing a traceback of the unittest module.\n",
       "\n",
       "-t\n",
       "  print timing information at the end of the run.  IPython will give\n",
       "  you an estimated CPU time consumption for your script, which under\n",
       "  Unix uses the resource module to avoid the wraparound problems of\n",
       "  time.clock().  Under Unix, an estimate of time spent on system tasks\n",
       "  is also given (for Windows platforms this is reported as 0.0).\n",
       "\n",
       "If -t is given, an additional ``-N<N>`` option can be given, where <N>\n",
       "must be an integer indicating how many times you want the script to\n",
       "run.  The final timing report will include total and per run results.\n",
       "\n",
       "For example (testing the script uniq_stable.py)::\n",
       "\n",
       "    In [1]: run -t uniq_stable\n",
       "\n",
       "    IPython CPU timings (estimated):\n",
       "      User  :    0.19597 s.\n",
       "      System:        0.0 s.\n",
       "\n",
       "    In [2]: run -t -N5 uniq_stable\n",
       "\n",
       "    IPython CPU timings (estimated):\n",
       "    Total runs performed: 5\n",
       "      Times :      Total       Per run\n",
       "      User  :   0.910862 s,  0.1821724 s.\n",
       "      System:        0.0 s,        0.0 s.\n",
       "\n",
       "-d\n",
       "  run your program under the control of pdb, the Python debugger.\n",
       "  This allows you to execute your program step by step, watch variables,\n",
       "  etc.  Internally, what IPython does is similar to calling::\n",
       "\n",
       "      pdb.run('execfile(\"YOURFILENAME\")')\n",
       "\n",
       "  with a breakpoint set on line 1 of your file.  You can change the line\n",
       "  number for this automatic breakpoint to be <N> by using the -bN option\n",
       "  (where N must be an integer). For example::\n",
       "\n",
       "      %run -d -b40 myscript\n",
       "\n",
       "  will set the first breakpoint at line 40 in myscript.py.  Note that\n",
       "  the first breakpoint must be set on a line which actually does\n",
       "  something (not a comment or docstring) for it to stop execution.\n",
       "\n",
       "  Or you can specify a breakpoint in a different file::\n",
       "\n",
       "      %run -d -b myotherfile.py:20 myscript\n",
       "\n",
       "  When the pdb debugger starts, you will see a (Pdb) prompt.  You must\n",
       "  first enter 'c' (without quotes) to start execution up to the first\n",
       "  breakpoint.\n",
       "\n",
       "  Entering 'help' gives information about the use of the debugger.  You\n",
       "  can easily see pdb's full documentation with \"import pdb;pdb.help()\"\n",
       "  at a prompt.\n",
       "\n",
       "-p\n",
       "  run program under the control of the Python profiler module (which\n",
       "  prints a detailed report of execution times, function calls, etc).\n",
       "\n",
       "  You can pass other options after -p which affect the behavior of the\n",
       "  profiler itself. See the docs for %prun for details.\n",
       "\n",
       "  In this mode, the program's variables do NOT propagate back to the\n",
       "  IPython interactive namespace (because they remain in the namespace\n",
       "  where the profiler executes them).\n",
       "\n",
       "  Internally this triggers a call to %prun, see its documentation for\n",
       "  details on the options available specifically for profiling.\n",
       "\n",
       "There is one special usage for which the text above doesn't apply:\n",
       "if the filename ends with .ipy[nb], the file is run as ipython script,\n",
       "just as if the commands were written on IPython prompt.\n",
       "\n",
       "-m\n",
       "  specify module name to load instead of script path. Similar to\n",
       "  the -m option for the python interpreter. Use this option last if you\n",
       "  want to combine with other %run options. Unlike the python interpreter\n",
       "  only source modules are allowed no .pyc or .pyo files.\n",
       "  For example::\n",
       "\n",
       "      %run -m example\n",
       "\n",
       "  will run the example module.\n",
       "\n",
       "-G\n",
       "  disable shell-like glob expansion of arguments.\n",
       "\u001b[0;31mFile:\u001b[0m      ~/Desktop/machine-learning/lib/python3.12/site-packages/IPython/core/magics/execution.py"
      ]
     },
     "metadata": {},
     "output_type": "display_data"
    }
   ],
   "source": [
    "%run?"
   ]
  },
  {
   "cell_type": "code",
   "execution_count": 80,
   "id": "7723588e-d2f8-4913-93cd-52176bc44402",
   "metadata": {},
   "outputs": [
    {
     "name": "stdout",
     "output_type": "stream",
     "text": [
      "*** Blank or comment\n",
      "*** Blank or comment\n",
      "NOTE: Enter 'c' at the ipdb>  prompt to continue execution.\n",
      "> \u001b[0;32m/home/kduah/Desktop/ipython_commands/myscript.py\u001b[0m(1)\u001b[0;36m<module>\u001b[0;34m()\u001b[0m\n",
      "\u001b[0;32m----> 1 \u001b[0;31m\u001b[0;34m\"\"\"Test for usage of magic command ~ % in ipython\"\"\"\u001b[0m\u001b[0;34m\u001b[0m\u001b[0;34m\u001b[0m\u001b[0m\n",
      "\u001b[0m\u001b[0;32m      2 \u001b[0;31m\u001b[0;32mdef\u001b[0m \u001b[0msquare\u001b[0m\u001b[0;34m(\u001b[0m\u001b[0mx\u001b[0m\u001b[0;34m)\u001b[0m\u001b[0;34m:\u001b[0m\u001b[0;34m\u001b[0m\u001b[0;34m\u001b[0m\u001b[0m\n",
      "\u001b[0m\u001b[0;32m      3 \u001b[0;31m    \u001b[0;34m\"\"\"Return the square of a number\"\"\"\u001b[0m\u001b[0;34m\u001b[0m\u001b[0;34m\u001b[0m\u001b[0m\n",
      "\u001b[0m\u001b[0;32m      4 \u001b[0;31m    \u001b[0;32mreturn\u001b[0m \u001b[0mx\u001b[0m \u001b[0;34m**\u001b[0m \u001b[0;36m2\u001b[0m\u001b[0;34m\u001b[0m\u001b[0;34m\u001b[0m\u001b[0m\n",
      "\u001b[0m\u001b[0;32m      5 \u001b[0;31m\u001b[0;34m\u001b[0m\u001b[0m\n",
      "\u001b[0m\n"
     ]
    },
    {
     "name": "stdin",
     "output_type": "stream",
     "text": [
      "ipdb>  quit()\n"
     ]
    }
   ],
   "source": [
    "%run -d myscript.py"
   ]
  },
  {
   "cell_type": "code",
   "execution_count": 82,
   "id": "647115a3-b72b-4eb1-b37e-5272e73c1445",
   "metadata": {},
   "outputs": [
    {
     "name": "stdout",
     "output_type": "stream",
     "text": [
      "20.1 μs ± 862 ns per loop (mean ± std. dev. of 7 runs, 10,000 loops each)\n"
     ]
    }
   ],
   "source": [
    "%timeit sum(range(1000))"
   ]
  },
  {
   "cell_type": "code",
   "execution_count": 83,
   "id": "8490dddd-8b52-4fb6-a0d5-a25aa10841e4",
   "metadata": {},
   "outputs": [
    {
     "name": "stdout",
     "output_type": "stream",
     "text": [
      "147 ms ± 4.58 ms per loop (mean ± std. dev. of 7 runs, 10 loops each)\n"
     ]
    }
   ],
   "source": [
    "%%timeit\n",
    "total = 0\n",
    "for i in range(1000):\n",
    "    for j in range(1000):\n",
    "        total += i * (-1)**j"
   ]
  },
  {
   "cell_type": "code",
   "execution_count": 97,
   "id": "dc235352-fad0-48df-92ce-7a6e1ca7b844",
   "metadata": {},
   "outputs": [],
   "source": [
    "\n",
    "def sum_of_lists(N):\n",
    "    total = 0\n",
    "    for i in range(5):\n",
    "        L = [j ^ (j >>i) for j in range(N)]\n",
    "        total+= sum(L)\n",
    "    return total\n",
    "\n"
   ]
  },
  {
   "cell_type": "code",
   "execution_count": 91,
   "id": "74ba4a60-2467-4b5c-a3fe-025ab01f572c",
   "metadata": {},
   "outputs": [
    {
     "data": {
      "text/plain": [
       "\u001b[0;31mDocstring:\u001b[0m\n",
       "Execute a statement under the line-by-line profiler from the\n",
       "line_profiler module.\n",
       "\n",
       "Usage:\n",
       "\n",
       "    %lprun -f func1 -f func2 <statement>\n",
       "\n",
       "The given statement (which doesn't require quote marks) is run via the\n",
       "LineProfiler. Profiling is enabled for the functions specified by the -f\n",
       "options. The statistics will be shown side-by-side with the code through the\n",
       "pager once the statement has completed.\n",
       "\n",
       "Options:\n",
       "\n",
       "-f <function>: LineProfiler only profiles functions and methods it is told\n",
       "to profile.  This option tells the profiler about these functions. Multiple\n",
       "-f options may be used. The argument may be any expression that gives\n",
       "a Python function or method object. However, one must be careful to avoid\n",
       "spaces that may confuse the option parser.\n",
       "\n",
       "-m <module>: Get all the functions/methods in a module\n",
       "\n",
       "One or more -f or -m options are required to get any useful results.\n",
       "\n",
       "-D <filename>: dump the raw statistics out to a pickle file on disk. The\n",
       "usual extension for this is \".lprof\". These statistics may be viewed later\n",
       "by running line_profiler.py as a script.\n",
       "\n",
       "-T <filename>: dump the text-formatted statistics with the code side-by-side\n",
       "out to a text file.\n",
       "\n",
       "-r: return the LineProfiler object after it has completed profiling.\n",
       "\n",
       "-s: strip out all entries from the print-out that have zeros.\n",
       "\n",
       "-u: specify time unit for the print-out in seconds.\n",
       "\u001b[0;31mFile:\u001b[0m      ~/Desktop/machine-learning/lib/python3.12/site-packages/line_profiler/ipython_extension.py"
      ]
     },
     "metadata": {},
     "output_type": "display_data"
    }
   ],
   "source": [
    "%lprun?"
   ]
  },
  {
   "cell_type": "code",
   "execution_count": 98,
   "id": "c035891f-1ef3-4960-a511-4d96320a4e08",
   "metadata": {},
   "outputs": [
    {
     "data": {
      "text/plain": [
       "Timer unit: 1e-09 s"
      ]
     },
     "metadata": {},
     "output_type": "display_data"
    }
   ],
   "source": [
    "\n",
    "%lprun -f sum_of_lists(5000)"
   ]
  },
  {
   "cell_type": "code",
   "execution_count": 99,
   "id": "423cbc82-5c8b-4786-b8e8-8c8428bb2a96",
   "metadata": {},
   "outputs": [
    {
     "name": "stdout",
     "output_type": "stream",
     "text": [
      "Collecting memory-profiler\n",
      "  Downloading memory_profiler-0.61.0-py3-none-any.whl.metadata (20 kB)\n",
      "Requirement already satisfied: psutil in /home/kduah/Desktop/machine-learning/lib/python3.12/site-packages (from memory-profiler) (6.1.1)\n",
      "Downloading memory_profiler-0.61.0-py3-none-any.whl (31 kB)\n",
      "Installing collected packages: memory-profiler\n",
      "Successfully installed memory-profiler-0.61.0\n",
      "Note: you may need to restart the kernel to use updated packages.\n"
     ]
    }
   ],
   "source": [
    "pip install memory-profiler"
   ]
  },
  {
   "cell_type": "code",
   "execution_count": 101,
   "id": "cf4b3520-c43a-4101-a2fa-9c07c7b75a27",
   "metadata": {},
   "outputs": [],
   "source": [
    "%load_ext memory_profiler"
   ]
  },
  {
   "cell_type": "code",
   "execution_count": 102,
   "id": "6fd95c00-0dba-4a90-9310-53dd9d22b2d8",
   "metadata": {},
   "outputs": [
    {
     "name": "stdout",
     "output_type": "stream",
     "text": [
      "peak memory: 863.42 MiB, increment: 771.27 MiB\n"
     ]
    }
   ],
   "source": [
    "%memit sum_of_lists(1000_0000)"
   ]
  },
  {
   "cell_type": "code",
   "execution_count": 104,
   "id": "b787150c-d1ed-4866-b468-9148862170dd",
   "metadata": {},
   "outputs": [
    {
     "name": "stdout",
     "output_type": "stream",
     "text": [
      "Writing mprun_demo.py\n"
     ]
    }
   ],
   "source": [
    "%%file mprun_demo.py\n",
    "def sum_of_lists(N):\n",
    "    total = 0\n",
    "\n",
    "    for i in range(5):\n",
    "        L = [j ^ (j >> i) for j in range(N)]\n",
    "        total += sum(L)\n",
    "        del L \n",
    "    return total"
   ]
  },
  {
   "cell_type": "code",
   "execution_count": 107,
   "id": "aef153e9-9cf2-4e9e-8e7f-a114ff51e057",
   "metadata": {},
   "outputs": [
    {
     "name": "stdout",
     "output_type": "stream",
     "text": [
      "\n"
     ]
    },
    {
     "data": {
      "text/plain": [
       "Filename: /home/kduah/Desktop/ipython_commands/mprun_demo.py\n",
       "\n",
       "Line #    Mem usage    Increment  Occurrences   Line Contents\n",
       "=============================================================\n",
       "     1    101.9 MiB    101.9 MiB           1   def sum_of_lists(N):\n",
       "     2    101.9 MiB      0.0 MiB           1       total = 0\n",
       "     3                                         \n",
       "     4    101.9 MiB     -0.5 MiB           6       for i in range(5):\n",
       "     5    130.8 MiB -45838608.0 MiB     5000005           L = [j ^ (j >> i) for j in range(N)]\n",
       "     6    130.8 MiB     -0.0 MiB           5           total += sum(L)\n",
       "     7    101.9 MiB   -115.7 MiB           5           del L \n",
       "     8    101.9 MiB     -0.1 MiB           1       return total"
      ]
     },
     "metadata": {},
     "output_type": "display_data"
    }
   ],
   "source": [
    "from mprun_demo import sum_of_lists\n",
    "%mprun -f sum_of_lists  sum_of_lists(1_000_000)"
   ]
  },
  {
   "cell_type": "code",
   "execution_count": null,
   "id": "78f874a0-3f1d-4a3e-b919-eb0af90d61e5",
   "metadata": {},
   "outputs": [],
   "source": []
  }
 ],
 "metadata": {
  "kernelspec": {
   "display_name": "Python 3 (ipykernel)",
   "language": "python",
   "name": "python3"
  },
  "language_info": {
   "codemirror_mode": {
    "name": "ipython",
    "version": 3
   },
   "file_extension": ".py",
   "mimetype": "text/x-python",
   "name": "python",
   "nbconvert_exporter": "python",
   "pygments_lexer": "ipython3",
   "version": "3.12.3"
  }
 },
 "nbformat": 4,
 "nbformat_minor": 5
}
