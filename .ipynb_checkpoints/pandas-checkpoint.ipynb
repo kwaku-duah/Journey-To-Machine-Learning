{
 "cells": [
  {
   "cell_type": "markdown",
   "id": "61d63296-574a-4657-9142-35672a871960",
   "metadata": {},
   "source": [
    "# STRUCTURED DATA: NUMPY STRUCTURED ARRAYS\n"
   ]
  },
  {
   "cell_type": "code",
   "execution_count": 6,
   "id": "a989aeb9-7de9-41d9-90be-18160e1a6d37",
   "metadata": {},
   "outputs": [
    {
     "data": {
      "text/plain": [
       "array([[0, 0, 0, 0]])"
      ]
     },
     "execution_count": 6,
     "metadata": {},
     "output_type": "execute_result"
    }
   ],
   "source": [
    "import numpy as np\n",
    "name = ['Alice', 'Bob','Cathy','Doug']\n",
    "age = [23, 45, 67, 76]\n",
    "weight = [55.0, 56.98,67.0]\n",
    "\n",
    "\n",
    "x = np.zeros(4, dtype=int)\n",
    "x[np.newaxis,:]\n"
   ]
  },
  {
   "cell_type": "code",
   "execution_count": 8,
   "id": "17533457-3c9c-4cb7-b640-4219c4c51320",
   "metadata": {},
   "outputs": [
    {
     "name": "stdout",
     "output_type": "stream",
     "text": [
      "[('name', '<U10'), ('age', '<i4'), ('weight', '<f8')]\n"
     ]
    }
   ],
   "source": [
    "data = np.zeros(4, dtype={'names':('name', 'age', 'weight'),\n",
    "                         'formats':('U10','i4', 'f8')})\n",
    "print(data.dtype)"
   ]
  }
 ],
 "metadata": {
  "kernelspec": {
   "display_name": "Python 3 (ipykernel)",
   "language": "python",
   "name": "python3"
  },
  "language_info": {
   "codemirror_mode": {
    "name": "ipython",
    "version": 3
   },
   "file_extension": ".py",
   "mimetype": "text/x-python",
   "name": "python",
   "nbconvert_exporter": "python",
   "pygments_lexer": "ipython3",
   "version": "3.12.3"
  }
 },
 "nbformat": 4,
 "nbformat_minor": 5
}
