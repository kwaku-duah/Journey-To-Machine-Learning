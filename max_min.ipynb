{
 "cells": [
  {
   "cell_type": "markdown",
   "id": "16748366-b2fa-4dad-8ee1-ff81f701a977",
   "metadata": {},
   "source": [
    "# MAX MIN AND EVERYTHING IN BETWEEN IN NUMPY\n",
    "\n",
    "A first step in preparing any data is compute various summary statistics\n",
    "\n",
    "\n"
   ]
  },
  {
   "cell_type": "code",
   "execution_count": 24,
   "id": "9db75250-fe5c-4a9e-b7dd-e660542da1cf",
   "metadata": {},
   "outputs": [
    {
     "name": "stdout",
     "output_type": "stream",
     "text": [
      "1.23 μs ± 42.3 ns per loop (mean ± std. dev. of 7 runs, 1,000,000 loops each)\n"
     ]
    },
    {
     "data": {
      "text/plain": [
       "np.float64(54.581163665660995)"
      ]
     },
     "execution_count": 24,
     "metadata": {},
     "output_type": "execute_result"
    }
   ],
   "source": [
    "%timeit\n",
    "import numpy as  np\n",
    "rng = np.random.default_rng(13)\n",
    "%timeit L = rng.random(100)\n",
    "\n",
    "sum(L)"
   ]
  },
  {
   "cell_type": "code",
   "execution_count": 28,
   "id": "b535b28e-e4c5-44ac-9a9a-c916c9df012a",
   "metadata": {},
   "outputs": [
    {
     "name": "stdout",
     "output_type": "stream",
     "text": [
      "80.8 ms ± 1.94 ms per loop (mean ± std. dev. of 7 runs, 10 loops each)\n",
      "448 μs ± 16.7 μs per loop (mean ± std. dev. of 7 runs, 1,000 loops each)\n"
     ]
    }
   ],
   "source": [
    "big_array = rng.random(1_000_000)\n",
    "%timeit sum(big_array)\n",
    "%timeit np.sum(big_array) \n",
    "#np.sum is much  faster than the sum function\n"
   ]
  },
  {
   "cell_type": "code",
   "execution_count": 29,
   "id": "e4c57655-65a8-47f6-817f-8672f0f49f7f",
   "metadata": {},
   "outputs": [
    {
     "data": {
      "text/plain": [
       "(np.float64(1.1147120172472214e-06), np.float64(0.9999997011967227))"
      ]
     },
     "execution_count": 29,
     "metadata": {},
     "output_type": "execute_result"
    }
   ],
   "source": [
    "min(big_array), max(big_array)"
   ]
  },
  {
   "cell_type": "code",
   "execution_count": 34,
   "id": "f7f6b6ee-4b6b-4ddb-b24b-aa8a87f1d876",
   "metadata": {},
   "outputs": [
    {
     "name": "stdout",
     "output_type": "stream",
     "text": [
      "61.3 ms ± 2.99 ms per loop (mean ± std. dev. of 7 runs, 10 loops each)\n",
      "499 μs ± 27 μs per loop (mean ± std. dev. of 7 runs, 1,000 loops each)\n"
     ]
    }
   ],
   "source": [
    "%timeit min(big_array)\n",
    "%timeit np.min(big_array)"
   ]
  },
  {
   "cell_type": "code",
   "execution_count": 36,
   "id": "7c2684ff-ad87-4260-9366-9f59d2c33d40",
   "metadata": {},
   "outputs": [
    {
     "name": "stdout",
     "output_type": "stream",
     "text": [
      "[[3 4 5 2]\n",
      " [5 2 4 6]\n",
      " [9 2 7 4]]\n"
     ]
    }
   ],
   "source": [
    "M= rng.integers(0, 10, (3,4))\n",
    "print(M)"
   ]
  },
  {
   "cell_type": "code",
   "execution_count": 37,
   "id": "2c7fe5cf-fccc-44dd-87e5-579da987bf20",
   "metadata": {},
   "outputs": [
    {
     "data": {
      "text/plain": [
       "np.int64(53)"
      ]
     },
     "execution_count": 37,
     "metadata": {},
     "output_type": "execute_result"
    }
   ],
   "source": [
    "M.sum()"
   ]
  },
  {
   "cell_type": "code",
   "execution_count": 41,
   "id": "4de8b4a7-0e1f-4e32-ba27-9317715f3599",
   "metadata": {},
   "outputs": [
    {
     "data": {
      "text/plain": [
       "array([5, 6, 9])"
      ]
     },
     "execution_count": 41,
     "metadata": {},
     "output_type": "execute_result"
    }
   ],
   "source": [
    "\n",
    "np.max(M,axis=1)"
   ]
  },
  {
   "cell_type": "code",
   "execution_count": 42,
   "id": "e3723659-a7bd-4880-9ad8-d7572242f505",
   "metadata": {},
   "outputs": [
    {
     "name": "stdout",
     "output_type": "stream",
     "text": [
      "order,name,height(cm)\n",
      "1,George Washington,189\n",
      "2,John Adams,170\n",
      "3,Thomas Jefferson,189\n"
     ]
    }
   ],
   "source": [
    "!head -4 ./president_heights.csv"
   ]
  },
  {
   "cell_type": "code",
   "execution_count": 47,
   "id": "d1941133-4adc-4b3a-976f-7de9df8d174d",
   "metadata": {},
   "outputs": [
    {
     "data": {
      "text/plain": [
       "'/home/kduah/Desktop/ipython_commands'"
      ]
     },
     "execution_count": 47,
     "metadata": {},
     "output_type": "execute_result"
    }
   ],
   "source": [
    "pwd"
   ]
  },
  {
   "cell_type": "code",
   "execution_count": 59,
   "id": "34b4cd83-d9fc-4ef6-9f77-29ea06d34bbb",
   "metadata": {},
   "outputs": [
    {
     "name": "stdout",
     "output_type": "stream",
     "text": [
      "[189 170 189 163 183 171 185 168 173 183 173 173 175 178 183 193 178 173\n",
      " 174 183 183 168 170 178 182 180 183 178 182 188 175 179 183 193 182 183\n",
      " 177 185 188 188 182 185 191 182]\n",
      "Mean height:  180.04545454545453\n",
      "Median height:  182.0\n",
      "Standard deviation:  6.983599441335736\n",
      "Minimum height:  163\n",
      "Maximum height:  193\n",
      "25th percentile:  174.75\n"
     ]
    }
   ],
   "source": [
    "import pandas as pd\n",
    "data = pd.read_csv('./president_heights.csv')\n",
    "heights = np.array(data['height(cm)'])\n",
    "print(heights)\n",
    "\n",
    "print(\"Mean height: \", heights.mean())\n",
    "print(\"Median height: \", np.median(heights))\n",
    "print(\"Standard deviation: \", heights.std())\n",
    "print(\"Minimum height: \", heights.min())\n",
    "print(\"Maximum height: \", heights.max())\n",
    "\n",
    "print(\"25th percentile: \", np.percentile(heights, 25))\n"
   ]
  },
  {
   "cell_type": "code",
   "execution_count": 77,
   "id": "1cf9d935-8344-4bf4-a5b8-c904460cb120",
   "metadata": {},
   "outputs": [
    {
     "data": {
      "text/plain": [
       "Text(0, 0.5, 'Numbers')"
      ]
     },
     "execution_count": 77,
     "metadata": {},
     "output_type": "execute_result"
    },
    {
     "data": {
      "image/png": "[encoded data removed]",
      "text/plain": [
       "<Figure size 640x480 with 1 Axes>"
      ]
     },
     "metadata": {},
     "output_type": "display_data"
    }
   ],
   "source": [
    "%matplotlib inline\n",
    "from matplotlib import pyplot as plt\n",
    "import seaborn as sns\n",
    "\n",
    "sns.set_theme()\n",
    "plt.hist(heights, color='blue')\n",
    "plt.title(\"Plot of heights of all presidents in US\")\n",
    "plt.xlabel(\"Heights(cm)\")\n",
    "plt.ylabel(\"Numbers\")\n",
    "\n"
   ]
  },
  {
   "cell_type": "markdown",
   "id": "30c9df91-67ab-4e40-8b05-32b336b75c98",
   "metadata": {},
   "source": [
    "# INTRODUCTION OF BROADCASTING IN NUMPY\n",
    "\n"
   ]
  },
  {
   "cell_type": "code",
   "execution_count": 81,
   "id": "de1268aa-3217-48db-b882-f772a98f325e",
   "metadata": {},
   "outputs": [
    {
     "data": {
      "text/plain": [
       "array([5, 6, 7])"
      ]
     },
     "execution_count": 81,
     "metadata": {},
     "output_type": "execute_result"
    }
   ],
   "source": [
    "import numpy as np\n",
    "\n",
    "a =  np.array([0,1,2])\n",
    "b = np.array([5,5,5])\n",
    "a + b"
   ]
  },
  {
   "cell_type": "code",
   "execution_count": 79,
   "id": "a6c3f4b6-3c24-4e8b-803f-568ff5cd746b",
   "metadata": {},
   "outputs": [
    {
     "data": {
      "text/plain": [
       "array([5, 6, 7])"
      ]
     },
     "execution_count": 79,
     "metadata": {},
     "output_type": "execute_result"
    }
   ],
   "source": [
    "a + 5"
   ]
  },
  {
   "cell_type": "code",
   "execution_count": 85,
   "id": "9a3589d4-5412-4d13-99cb-c7496bf48656",
   "metadata": {},
   "outputs": [
    {
     "data": {
      "text/plain": [
       "array([[1., 1., 1.],\n",
       "       [1., 1., 1.],\n",
       "       [1., 1., 1.]])"
      ]
     },
     "execution_count": 85,
     "metadata": {},
     "output_type": "execute_result"
    }
   ],
   "source": [
    "M = np.ones((3, 3))\n",
    "M"
   ]
  },
  {
   "cell_type": "code",
   "execution_count": 86,
   "id": "877c8592-0eb4-4f50-bf29-5e3b71422624",
   "metadata": {},
   "outputs": [
    {
     "data": {
      "text/plain": [
       "array([[1., 2., 3.],\n",
       "       [1., 2., 3.],\n",
       "       [1., 2., 3.]])"
      ]
     },
     "execution_count": 86,
     "metadata": {},
     "output_type": "execute_result"
    }
   ],
   "source": [
    "M + a"
   ]
  },
  {
   "cell_type": "code",
   "execution_count": 88,
   "id": "ed92b6e5-f21d-4e55-b766-112fc885eb15",
   "metadata": {},
   "outputs": [
    {
     "name": "stdout",
     "output_type": "stream",
     "text": [
      "[0 1 2]\n",
      "[[0]\n",
      " [1]\n",
      " [2]]\n"
     ]
    }
   ],
   "source": [
    "a = np.arange(3)\n",
    "b = np.arange(3)[:, np.newaxis]\n",
    "\n",
    "print(a)\n",
    "print(b)"
   ]
  },
  {
   "cell_type": "code",
   "execution_count": 89,
   "id": "35fdbbec-0dc6-4535-8acc-4c1435615a4b",
   "metadata": {},
   "outputs": [
    {
     "data": {
      "text/plain": [
       "array([[0, 1, 2],\n",
       "       [1, 2, 3],\n",
       "       [2, 3, 4]])"
      ]
     },
     "execution_count": 89,
     "metadata": {},
     "output_type": "execute_result"
    }
   ],
   "source": [
    "a + b"
   ]
  },
  {
   "cell_type": "code",
   "execution_count": 91,
   "id": "ada698b0-bb9b-40f2-a259-c210c25bc372",
   "metadata": {},
   "outputs": [
    {
     "name": "stdout",
     "output_type": "stream",
     "text": [
      "[[0]\n",
      " [1]\n",
      " [2]] [0 1 2]\n"
     ]
    }
   ],
   "source": [
    "a = np.arange(3).reshape(3,1)\n",
    "b = np.arange(3)\n",
    "\n",
    "print(a, b\n",
    "     )"
   ]
  },
  {
   "cell_type": "code",
   "execution_count": 96,
   "id": "fe433744-f796-461e-ba71-6c6260eff45b",
   "metadata": {},
   "outputs": [
    {
     "data": {
      "text/plain": [
       "array([ 4.99600361e-17, -4.44089210e-17,  0.00000000e+00])"
      ]
     },
     "execution_count": 96,
     "metadata": {},
     "output_type": "execute_result"
    }
   ],
   "source": [
    "rng = np.random.default_rng(seed=1701)\n",
    "X = rng.random((10,3))\n",
    "\n",
    "xmean = np.mean(X,axis=0)\n",
    "\n",
    "X_centered = X - xmean\n",
    "\n",
    "X_centered.mean(0)"
   ]
  },
  {
   "cell_type": "markdown",
   "id": "53114665-111c-46a7-873a-c632983b14a9",
   "metadata": {},
   "source": [
    "# PLOTTING 2D FUNCTION"
   ]
  },
  {
   "cell_type": "code",
   "execution_count": 108,
   "id": "da157617-9b00-4f03-940f-28b1b58e58fb",
   "metadata": {},
   "outputs": [
    {
     "name": "stdout",
     "output_type": "stream",
     "text": [
      "(50, 50)\n"
     ]
    },
    {
     "data": {
      "image/png": "[encoded data removed]",
      "text/plain": [
       "<Figure size 640x480 with 2 Axes>"
      ]
     },
     "metadata": {},
     "output_type": "display_data"
    }
   ],
   "source": [
    "\n",
    "x = np.linspace(0, 5, 50)\n",
    "y = np.linspace(0, 5, 50)[:,np.newaxis]\n",
    "\n",
    "z = np.sin(x) ** 10 + np.cos(10  + y * x) * np.cos(x)\n",
    "print(z.shape)\n",
    "\n",
    "%matplotlib inline\n",
    "\n",
    "from matplotlib import pyplot as plt\n",
    "\n",
    "plt.imshow(z, origin='lower', cmap='viridis',extent=[0, 6, 0, 6])\n",
    "plt.colorbar();"
   ]
  },
  {
   "cell_type": "markdown",
   "id": "f459b115-a722-4b71-9c02-afde3680c408",
   "metadata": {},
   "source": [
    "# Comparisons, Masks, and Boolean Logic\n",
    "Chapter covers the use of Boolean masks to examine\n"
   ]
  },
  {
   "cell_type": "code",
   "execution_count": 111,
   "id": "64de0907-bb85-476e-860d-7acc056841eb",
   "metadata": {},
   "outputs": [
    {
     "name": "stdout",
     "output_type": "stream",
     "text": [
      "Collecting vega_datasets\n",
      "  Downloading vega_datasets-0.9.0-py3-none-any.whl.metadata (5.5 kB)\n",
      "Requirement already satisfied: pandas in /home/kduah/Desktop/machine-learning/lib/python3.12/site-packages (from vega_datasets) (2.2.3)\n",
      "Requirement already satisfied: numpy>=1.26.0 in /home/kduah/Desktop/machine-learning/lib/python3.12/site-packages (from pandas->vega_datasets) (2.2.1)\n",
      "Requirement already satisfied: python-dateutil>=2.8.2 in /home/kduah/Desktop/machine-learning/lib/python3.12/site-packages (from pandas->vega_datasets) (2.9.0.post0)\n",
      "Requirement already satisfied: pytz>=2020.1 in /home/kduah/Desktop/machine-learning/lib/python3.12/site-packages (from pandas->vega_datasets) (2024.2)\n",
      "Requirement already satisfied: tzdata>=2022.7 in /home/kduah/Desktop/machine-learning/lib/python3.12/site-packages (from pandas->vega_datasets) (2024.2)\n",
      "Requirement already satisfied: six>=1.5 in /home/kduah/Desktop/machine-learning/lib/python3.12/site-packages (from python-dateutil>=2.8.2->pandas->vega_datasets) (1.17.0)\n",
      "Downloading vega_datasets-0.9.0-py3-none-any.whl (210 kB)\n",
      "\u001b[2K   \u001b[38;2;114;156;31m━━━━━━━━━━━━━━━━━━━━━━━━━━━━━━━━━━━━━━━\u001b[0m \u001b[32m210.8/210.8 kB\u001b[0m \u001b[31m369.2 kB/s\u001b[0m eta \u001b[36m0:00:00\u001b[0m1m414.0 kB/s\u001b[0m eta \u001b[36m0:00:01\u001b[0m\n",
      "Installing collected packages: vega_datasets\n",
      "Successfully installed vega_datasets-0.9.0\n",
      "Note: you may need to restart the kernel to use updated packages.\n"
     ]
    }
   ],
   "source": [
    "pip install vega_datasets"
   ]
  },
  {
   "cell_type": "code",
   "execution_count": 113,
   "id": "204d1046-49d4-48b7-864d-feb44a53da8a",
   "metadata": {},
   "outputs": [
    {
     "data": {
      "text/plain": [
       "365"
      ]
     },
     "execution_count": 113,
     "metadata": {},
     "output_type": "execute_result"
    }
   ],
   "source": [
    "import numpy as np\n",
    "from vega_datasets import data\n",
    "\n",
    "# Use DataFrame operations to extract rainfall as a Numpy array\n",
    "rainfall_mm = np.array(\n",
    "    data.seattle_weather().set_index('date')['precipitation']['2015']\n",
    ")\n",
    "len(rainfall_mm)"
   ]
  },
  {
   "cell_type": "code",
   "execution_count": 117,
   "id": "84ca695d-400c-4475-a582-b206bc95d939",
   "metadata": {},
   "outputs": [
    {
     "data": {
      "text/plain": [
       "(array([262.,  22.,  14.,   9.,  10.,   6.,   6.,   5.,   2.,   3.,   1.,\n",
       "          2.,   2.,   3.,   0.,   2.,   2.,   0.,   3.,   2.,   1.,   2.,\n",
       "          0.,   3.,   0.,   0.,   0.,   0.,   0.,   0.,   0.,   0.,   0.,\n",
       "          1.,   0.,   0.,   0.,   0.,   1.,   1.]),\n",
       " array([ 0.    ,  1.3975,  2.795 ,  4.1925,  5.59  ,  6.9875,  8.385 ,\n",
       "         9.7825, 11.18  , 12.5775, 13.975 , 15.3725, 16.77  , 18.1675,\n",
       "        19.565 , 20.9625, 22.36  , 23.7575, 25.155 , 26.5525, 27.95  ,\n",
       "        29.3475, 30.745 , 32.1425, 33.54  , 34.9375, 36.335 , 37.7325,\n",
       "        39.13  , 40.5275, 41.925 , 43.3225, 44.72  , 46.1175, 47.515 ,\n",
       "        48.9125, 50.31  , 51.7075, 53.105 , 54.5025, 55.9   ]),\n",
       " <BarContainer object of 40 artists>)"
      ]
     },
     "execution_count": 117,
     "metadata": {},
     "output_type": "execute_result"
    },
    {
     "data": {
      "image/png": "[encoded data removed]",
      "text/plain": [
       "<Figure size 640x480 with 1 Axes>"
      ]
     },
     "metadata": {},
     "output_type": "display_data"
    }
   ],
   "source": [
    "%matplotlib inline\n",
    "from matplotlib import pyplot as plt\n",
    "import seaborn as sns\n",
    "\n",
    "sns.set_theme()\n",
    "plt.hist(rainfall_mm, 40)"
   ]
  },
  {
   "cell_type": "code",
   "execution_count": 120,
   "id": "8de0aebd-1292-4bf4-be71-7566ecc3bde9",
   "metadata": {},
   "outputs": [
    {
     "data": {
      "text/plain": [
       "array([False, False,  True, False, False])"
      ]
     },
     "execution_count": 120,
     "metadata": {},
     "output_type": "execute_result"
    }
   ],
   "source": [
    "x = np.array([1, 2, 3, 4, 5])\n",
    "x < 3\n",
    "x == 3"
   ]
  },
  {
   "cell_type": "code",
   "execution_count": 121,
   "id": "ade7fb96-ed50-47ba-bad6-6ced93592e1e",
   "metadata": {},
   "outputs": [
    {
     "data": {
      "text/plain": [
       "array([ True,  True,  True, False, False])"
      ]
     },
     "execution_count": 121,
     "metadata": {},
     "output_type": "execute_result"
    }
   ],
   "source": [
    "x<=3\n"
   ]
  },
  {
   "cell_type": "code",
   "execution_count": 126,
   "id": "bd862fb5-9df2-42c8-8f23-e08e0e53c167",
   "metadata": {},
   "outputs": [
    {
     "name": "stdout",
     "output_type": "stream",
     "text": [
      "[[9 4 0 3]\n",
      " [8 6 3 1]\n",
      " [3 7 4 0]]\n"
     ]
    }
   ],
   "source": [
    "rng = np.random.default_rng(seed=1701)\n",
    "x = rng.integers(10, size=(3,4))\n",
    "print(x)"
   ]
  },
  {
   "cell_type": "code",
   "execution_count": 132,
   "id": "f8fa9b91-f4a8-48b6-933d-aa7bb0b9b8e9",
   "metadata": {},
   "outputs": [
    {
     "data": {
      "text/plain": [
       "array([1, 1, 3, 3])"
      ]
     },
     "execution_count": 132,
     "metadata": {},
     "output_type": "execute_result"
    }
   ],
   "source": [
    "np.sum(x<6, axis=0)"
   ]
  },
  {
   "cell_type": "code",
   "execution_count": 133,
   "id": "b187a240-53a5-42af-be9f-9d3d33abe755",
   "metadata": {},
   "outputs": [
    {
     "data": {
      "text/plain": [
       "np.False_"
      ]
     },
     "execution_count": 133,
     "metadata": {},
     "output_type": "execute_result"
    }
   ],
   "source": [
    "np.any(x <0)"
   ]
  },
  {
   "cell_type": "code",
   "execution_count": 134,
   "id": "1193f1a7-eb23-42b2-b671-e7baae3b9305",
   "metadata": {},
   "outputs": [
    {
     "data": {
      "text/plain": [
       "np.True_"
      ]
     },
     "execution_count": 134,
     "metadata": {},
     "output_type": "execute_result"
    }
   ],
   "source": [
    "np.all(x<10)"
   ]
  },
  {
   "cell_type": "code",
   "execution_count": 141,
   "id": "56dcdf02-08a6-4c3b-850f-d71ada0af09c",
   "metadata": {},
   "outputs": [
    {
     "data": {
      "text/plain": [
       "np.int64(16)"
      ]
     },
     "execution_count": 141,
     "metadata": {},
     "output_type": "execute_result"
    }
   ],
   "source": [
    "np.sum((rainfall_mm >10) & (rainfall_mm < 20))"
   ]
  },
  {
   "cell_type": "code",
   "execution_count": 142,
   "id": "60672728-3877-4fe2-ba81-39d0bbe9bd2e",
   "metadata": {},
   "outputs": [
    {
     "data": {
      "text/plain": [
       "np.int64(16)"
      ]
     },
     "execution_count": 142,
     "metadata": {},
     "output_type": "execute_result"
    }
   ],
   "source": [
    "np.sum(~((rainfall_mm <= 10) | (rainfall_mm >=20)))"
   ]
  },
  {
   "cell_type": "code",
   "execution_count": 143,
   "id": "344df5d3-6542-4b76-9fed-228373c157e6",
   "metadata": {},
   "outputs": [
    {
     "data": {
      "text/plain": [
       "array([[9, 4, 0, 3],\n",
       "       [8, 6, 3, 1],\n",
       "       [3, 7, 4, 0]])"
      ]
     },
     "execution_count": 143,
     "metadata": {},
     "output_type": "execute_result"
    }
   ],
   "source": [
    "x"
   ]
  },
  {
   "cell_type": "code",
   "execution_count": 150,
   "id": "a9e717b3-c543-4f09-9ff5-317b28b9f71a",
   "metadata": {},
   "outputs": [
    {
     "name": "stdout",
     "output_type": "stream",
     "text": [
      "3.8\n"
     ]
    }
   ],
   "source": [
    "x[x<5]\n",
    "rainy = (rainfall_mm > 0)\n",
    "days = np.arange(365)\n",
    "summer = (days > 172) & ( days < 262)\n",
    "print(np.median(rainfall_mm[rainy]))\n"
   ]
  },
  {
   "cell_type": "code",
   "execution_count": 152,
   "id": "e2b8fbd2-6eae-41cb-8caf-f5f7eb08b08a",
   "metadata": {},
   "outputs": [
    {
     "data": {
      "text/plain": [
       "True"
      ]
     },
     "execution_count": 152,
     "metadata": {},
     "output_type": "execute_result"
    }
   ],
   "source": [
    "bool(43\n",
    "       )"
   ]
  },
  {
   "cell_type": "code",
   "execution_count": 154,
   "id": "20a0f4cc-b512-4b8d-bd02-5daafca827f9",
   "metadata": {},
   "outputs": [
    {
     "data": {
      "text/plain": [
       "True"
      ]
     },
     "execution_count": 154,
     "metadata": {},
     "output_type": "execute_result"
    }
   ],
   "source": [
    "bool(42 and True)"
   ]
  },
  {
   "cell_type": "code",
   "execution_count": 1,
   "id": "06a62855-25b3-4311-bf26-abae7578c27d",
   "metadata": {},
   "outputs": [
    {
     "data": {
      "text/plain": [
       "(True, False)"
      ]
     },
     "execution_count": 1,
     "metadata": {},
     "output_type": "execute_result"
    }
   ],
   "source": [
    "bool(42), bool(0)"
   ]
  },
  {
   "cell_type": "code",
   "execution_count": 3,
   "id": "2a5e0b05-352a-4894-a0c4-d4d620a56639",
   "metadata": {},
   "outputs": [
    {
     "data": {
      "text/plain": [
       "False"
      ]
     },
     "execution_count": 3,
     "metadata": {},
     "output_type": "execute_result"
    }
   ],
   "source": [
    "bool(42 and 0)"
   ]
  },
  {
   "cell_type": "code",
   "execution_count": 4,
   "id": "ba2fa6b4-e0e2-460b-a5b0-0a2897679e2e",
   "metadata": {},
   "outputs": [
    {
     "data": {
      "text/plain": [
       "'0b101010'"
      ]
     },
     "execution_count": 4,
     "metadata": {},
     "output_type": "execute_result"
    }
   ],
   "source": [
    "bin(42 & 59)"
   ]
  },
  {
   "cell_type": "code",
   "execution_count": 5,
   "id": "5384d3a1-dbaf-44ef-9125-14ef36e9f120",
   "metadata": {},
   "outputs": [
    {
     "data": {
      "text/plain": [
       "'0b111011'"
      ]
     },
     "execution_count": 5,
     "metadata": {},
     "output_type": "execute_result"
    }
   ],
   "source": [
    "bin(42 | 59)"
   ]
  },
  {
   "cell_type": "code",
   "execution_count": 8,
   "id": "416cbe2e-00ce-448d-8c21-a343e0e079a6",
   "metadata": {},
   "outputs": [
    {
     "data": {
      "text/plain": [
       "array([ True,  True,  True, False,  True,  True])"
      ]
     },
     "execution_count": 8,
     "metadata": {},
     "output_type": "execute_result"
    }
   ],
   "source": [
    "import numpy as np\n",
    "A =  np.array([1,0,1,0,1,0], dtype=bool)\n",
    "B = np.array([1, 1, 1, 0, 1, 1], dtype=bool)\n",
    "\n",
    "A | B"
   ]
  },
  {
   "cell_type": "markdown",
   "id": "8c359dfa-af45-4020-a55d-8d04225eff89",
   "metadata": {},
   "source": [
    "# AND / OR works on entire object, but ampersand & and pipe | works on\n",
    "individual elements in an object\n"
   ]
  },
  {
   "cell_type": "code",
   "execution_count": 18,
   "id": "7a91a41b-8290-4366-a822-5f50b7d16642",
   "metadata": {},
   "outputs": [
    {
     "data": {
      "text/plain": [
       "array([30, 80, 67])"
      ]
     },
     "execution_count": 18,
     "metadata": {},
     "output_type": "execute_result"
    }
   ],
   "source": [
    "import numpy as np\n",
    "rng = np.random.default_rng(seed=1701)\n",
    "x = rng.integers(100, size=10)\n",
    "[x[3], x[5]] \n",
    "\n",
    "ind = [3, 4, 5]\n",
    "x[ind]"
   ]
  },
  {
   "cell_type": "code",
   "execution_count": 19,
   "id": "d948f0d8-3c4a-4696-8a08-f30ce73cbfb0",
   "metadata": {},
   "outputs": [
    {
     "data": {
      "text/plain": [
       "array([30, 80, 67])"
      ]
     },
     "execution_count": 19,
     "metadata": {},
     "output_type": "execute_result"
    }
   ],
   "source": [
    "ind = [3, 4, 5]\n",
    "x[ind]"
   ]
  },
  {
   "cell_type": "code",
   "execution_count": 21,
   "id": "ff4ec660-a399-4665-9d18-eaca09750ecd",
   "metadata": {},
   "outputs": [
    {
     "data": {
      "text/plain": [
       "array([[30, 15],\n",
       "       [80, 67]])"
      ]
     },
     "execution_count": 21,
     "metadata": {},
     "output_type": "execute_result"
    }
   ],
   "source": [
    "ind = np.array([[3,7],[4,5]])\n",
    "x[ind]"
   ]
  },
  {
   "cell_type": "code",
   "execution_count": null,
   "id": "7683002d-17e8-4b1d-aee3-33d800d85543",
   "metadata": {},
   "outputs": [],
   "source": []
  }
 ],
 "metadata": {
  "kernelspec": {
   "display_name": "Python 3 (ipykernel)",
   "language": "python",
   "name": "python3"
  },
  "language_info": {
   "codemirror_mode": {
    "name": "ipython",
    "version": 3
   },
   "file_extension": ".py",
   "mimetype": "text/x-python",
   "name": "python",
   "nbconvert_exporter": "python",
   "pygments_lexer": "ipython3",
   "version": "3.12.3"
  }
 },
 "nbformat": 4,
 "nbformat_minor": 5
}
