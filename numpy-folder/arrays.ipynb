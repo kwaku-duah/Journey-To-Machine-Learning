{
 "cells": [
  {
   "cell_type": "markdown",
   "id": "d563bcde-e36e-4713-b4e1-43eb00e71650",
   "metadata": {},
   "source": [
    "# SORTING ARRAYS\n"
   ]
  },
  {
   "cell_type": "code",
   "execution_count": 3,
   "id": "10f678c0-4fa4-447b-b52b-2b5dae5a9478",
   "metadata": {},
   "outputs": [
    {
     "data": {
      "text/plain": [
       "[2, 2, 4, 5, 6, 9]"
      ]
     },
     "execution_count": 3,
     "metadata": {},
     "output_type": "execute_result"
    }
   ],
   "source": [
    "L = [4, 5 , 6 , 2,2,9]\n",
    "sorted(L)"
   ]
  },
  {
   "cell_type": "code",
   "execution_count": 8,
   "id": "5538f285-7faf-463c-aa78-f314036411e4",
   "metadata": {},
   "outputs": [
    {
     "name": "stdout",
     "output_type": "stream",
     "text": [
      "[3, 4, 5, 6, 6]\n"
     ]
    }
   ],
   "source": [
    "A = [4, 5, 6,6,3]\n",
    "A.sort()\n",
    "print(A)"
   ]
  },
  {
   "cell_type": "code",
   "execution_count": 9,
   "id": "4d501f90-c424-4c73-9358-35d8416e2445",
   "metadata": {},
   "outputs": [
    {
     "data": {
      "text/plain": [
       "[3, 4, 5, 6, 6]"
      ]
     },
     "execution_count": 9,
     "metadata": {},
     "output_type": "execute_result"
    }
   ],
   "source": [
    "sorted(A)"
   ]
  },
  {
   "cell_type": "code",
   "execution_count": 10,
   "id": "d3c44d24-2372-478f-9444-6709ca3dd4fb",
   "metadata": {},
   "outputs": [
    {
     "data": {
      "text/plain": [
       "array([1, 2, 3, 4, 5])"
      ]
     },
     "execution_count": 10,
     "metadata": {},
     "output_type": "execute_result"
    }
   ],
   "source": [
    "import numpy as np\n",
    "\n",
    "x = np.array([2,1,4,3,5])\n",
    "np.sort(x)"
   ]
  },
  {
   "cell_type": "code",
   "execution_count": 12,
   "id": "94d7559c-05bd-498f-bc7c-cbaff52a55c2",
   "metadata": {},
   "outputs": [
    {
     "name": "stdout",
     "output_type": "stream",
     "text": [
      "[1 0 2 3 4]\n"
     ]
    }
   ],
   "source": [
    "x = np.array([2,1,4,5,6])\n",
    "i = np.argsort(x)\n",
    "print(i)"
   ]
  },
  {
   "cell_type": "code",
   "execution_count": 14,
   "id": "599458e7-c21f-4aa7-b05d-2bbd737bc013",
   "metadata": {},
   "outputs": [
    {
     "name": "stdout",
     "output_type": "stream",
     "text": [
      "[[0 7 6 4 4 8]\n",
      " [0 6 2 0 5 9]\n",
      " [7 7 7 7 5 1]\n",
      " [8 4 5 3 1 9]]\n"
     ]
    }
   ],
   "source": [
    "rng = np.random.default_rng(seed=42)\n",
    "X  = rng.integers(0,10,(4,6))\n",
    "print(X)"
   ]
  },
  {
   "cell_type": "code",
   "execution_count": 15,
   "id": "a36244f1-225d-4d87-a1d7-4156e8e7f8db",
   "metadata": {},
   "outputs": [
    {
     "data": {
      "text/plain": [
       "array([[0, 4, 2, 0, 1, 1],\n",
       "       [0, 6, 5, 3, 4, 8],\n",
       "       [7, 7, 6, 4, 5, 9],\n",
       "       [8, 7, 7, 7, 5, 9]])"
      ]
     },
     "execution_count": 15,
     "metadata": {},
     "output_type": "execute_result"
    }
   ],
   "source": [
    "np.sort(X, axis=0)"
   ]
  },
  {
   "cell_type": "code",
   "execution_count": 19,
   "id": "c8a7a71a-ce4e-48f4-b097-08fb5839bef1",
   "metadata": {},
   "outputs": [
    {
     "data": {
      "text/plain": [
       "array([1, 4, 5, 6, 7, 8, 9])"
      ]
     },
     "execution_count": 19,
     "metadata": {},
     "output_type": "execute_result"
    }
   ],
   "source": [
    "x = np.array([4,1,5,6,7,8,9])\n",
    "np.partition(x,5)"
   ]
  },
  {
   "cell_type": "code",
   "execution_count": 26,
   "id": "7ebbf633-a816-4ff3-8e04-6a476a8cd103",
   "metadata": {},
   "outputs": [
    {
     "data": {
      "text/plain": [
       "<matplotlib.collections.PathCollection at 0x7e7e0fa4f1d0>"
      ]
     },
     "execution_count": 26,
     "metadata": {},
     "output_type": "execute_result"
    },
    {
     "data": {
      "image/png": "[encoded data removed]",
      "text/plain": [
       "<Figure size 640x480 with 1 Axes>"
      ]
     },
     "metadata": {},
     "output_type": "display_data"
    }
   ],
   "source": [
    "y = rng.random((10,2))\n",
    "%matplotlib inline\n",
    "from matplotlib import pyplot as plt\n",
    "import seaborn as sns\n",
    "\n",
    "sns.set_theme()\n",
    "plt.scatter(y[:,0],y[:,1],s=100)"
   ]
  },
  {
   "cell_type": "code",
   "execution_count": 33,
   "id": "fdc4655e-28b5-4d4f-b1de-84338a04ed88",
   "metadata": {},
   "outputs": [
    {
     "name": "stdout",
     "output_type": "stream",
     "text": [
      "[[0.61511574 1.3617091 ]\n",
      " [0.74352372 0.97918596]\n",
      " [0.63913222 3.4038531 ]\n",
      " [1.50860771 2.39655445]\n",
      " [3.01183156 1.09389144]\n",
      " [0.83942292 2.45233178]\n",
      " [1.90712528 1.13716367]\n",
      " [0.6170092  1.91812111]\n",
      " [1.6430627  1.98164555]\n",
      " [0.6214158  2.40039356]]\n"
     ]
    }
   ],
   "source": [
    "dis_eq = np.sum((y[:,np.newaxis] - y[np.newaxis,:])**2, axis=1)\n",
    "\n",
    "print(dis_eq)"
   ]
  }
 ],
 "metadata": {
  "kernelspec": {
   "display_name": "Python 3 (ipykernel)",
   "language": "python",
   "name": "python3"
  },
  "language_info": {
   "codemirror_mode": {
    "name": "ipython",
    "version": 3
   },
   "file_extension": ".py",
   "mimetype": "text/x-python",
   "name": "python",
   "nbconvert_exporter": "python",
   "pygments_lexer": "ipython3",
   "version": "3.12.3"
  }
 },
 "nbformat": 4,
 "nbformat_minor": 5
}
