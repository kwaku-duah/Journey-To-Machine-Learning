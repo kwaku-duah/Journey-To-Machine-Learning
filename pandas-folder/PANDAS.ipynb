{
 "cells": [
  {
   "cell_type": "markdown",
   "id": "ec5652bf-6fc7-4e17-848d-56619e590d89",
   "metadata": {},
   "source": [
    "# PANDAS - Python Data Manipulation\n"
   ]
  },
  {
   "cell_type": "code",
   "execution_count": 10,
   "id": "25373b4a-af3d-4220-851c-4810e5043949",
   "metadata": {},
   "outputs": [],
   "source": [
    "import numpy as np\n",
    "import pandas as pd"
   ]
  },
  {
   "cell_type": "markdown",
   "id": "09701b1e-c48a-4f38-84ff-a9102d0bb08d",
   "metadata": {},
   "source": [
    "# BASIC DATA STRUCTURES IN PANDAS\n",
    "~ DataFrame\n",
    "~ Series \n",
    "~ Index \n",
    "constructed from this pd.Series(data, index=index)"
   ]
  },
  {
   "cell_type": "markdown",
   "id": "4e28541d-dc05-43e9-81e6-7814f5c3ca0f",
   "metadata": {},
   "source": [
    "## Pandas series is a one-directional array of indexed data (1-Dimensional)\n"
   ]
  },
  {
   "cell_type": "code",
   "execution_count": 14,
   "id": "dfb2e6bd-77b4-47e4-9229-a7bc5fca483d",
   "metadata": {},
   "outputs": [
    {
     "data": {
      "text/plain": [
       "0    0.25\n",
       "1    0.50\n",
       "2    0.75\n",
       "3    1.00\n",
       "dtype: float64"
      ]
     },
     "execution_count": 14,
     "metadata": {},
     "output_type": "execute_result"
    }
   ],
   "source": [
    "data = pd.Series([0.25, 0.5, 0.75, 1.0])\n",
    "data"
   ]
  },
  {
   "cell_type": "code",
   "execution_count": 20,
   "id": "bacc3056-8792-475a-ba65-3c497e26cb0e",
   "metadata": {},
   "outputs": [
    {
     "data": {
      "text/plain": [
       "RangeIndex(start=0, stop=4, step=1)"
      ]
     },
     "execution_count": 20,
     "metadata": {},
     "output_type": "execute_result"
    }
   ],
   "source": [
    "data.values\n",
    "data.index"
   ]
  },
  {
   "cell_type": "code",
   "execution_count": 22,
   "id": "4abf5f4b-b787-4464-92dd-36d4815a054f",
   "metadata": {},
   "outputs": [
    {
     "name": "stdout",
     "output_type": "stream",
     "text": [
      "a    0.25\n",
      "b    0.50\n",
      "c    0.75\n",
      "d    1.00\n",
      "dtype: float64\n"
     ]
    }
   ],
   "source": [
    "data = pd.Series([0.25,0.5,0.75,1.0],\n",
    "                index=['a','b','c','d'])\n",
    "print(data)"
   ]
  },
  {
   "cell_type": "code",
   "execution_count": 27,
   "id": "fce96a7c-5643-42f3-8fcb-a4e5ffe99827",
   "metadata": {},
   "outputs": [
    {
     "data": {
      "text/plain": [
       "california      3455677\n",
       "Texas            213445\n",
       "Florida          123445\n",
       "New York          23322\n",
       "Pennsylvania     231111\n",
       "dtype: int64"
      ]
     },
     "execution_count": 27,
     "metadata": {},
     "output_type": "execute_result"
    }
   ],
   "source": [
    "population_dict = {\"california\": 3455677, \"Texas\":213445, \"Florida\": 123445, \"New York\": 23322, \"Pennsylvania\": 231111}\n",
    "population = pd.Series(population_dict)\n",
    "population"
   ]
  },
  {
   "cell_type": "code",
   "execution_count": 29,
   "id": "0466333e-739e-419c-a7c6-0a9336b87456",
   "metadata": {},
   "outputs": [
    {
     "data": {
      "text/plain": [
       "np.int64(3455677)"
      ]
     },
     "execution_count": 29,
     "metadata": {},
     "output_type": "execute_result"
    }
   ],
   "source": [
    "population['california']"
   ]
  },
  {
   "cell_type": "code",
   "execution_count": 38,
   "id": "cdb08998-757a-4821-b036-be4f710f71b6",
   "metadata": {},
   "outputs": [
    {
     "data": {
      "text/plain": [
       "california    3455677\n",
       "Texas          213445\n",
       "Florida        123445\n",
       "dtype: int64"
      ]
     },
     "execution_count": 38,
     "metadata": {},
     "output_type": "execute_result"
    }
   ],
   "source": [
    "population['california':'Florida']"
   ]
  },
  {
   "cell_type": "markdown",
   "id": "963fb90f-3eef-4ad1-8f40-2828962e6c81",
   "metadata": {},
   "source": [
    "# Constructing Series Objects\n",
    "\n"
   ]
  },
  {
   "cell_type": "code",
   "execution_count": 39,
   "id": "879d03d2-5ca3-4f82-97d4-46a093a34489",
   "metadata": {},
   "outputs": [
    {
     "data": {
      "text/plain": [
       "0    2\n",
       "1    3\n",
       "2    4\n",
       "dtype: int64"
      ]
     },
     "execution_count": 39,
     "metadata": {},
     "output_type": "execute_result"
    }
   ],
   "source": [
    "pd.Series([2,3,4])"
   ]
  },
  {
   "cell_type": "code",
   "execution_count": 40,
   "id": "11de3628-fdf4-4b7b-9eab-c102b6cd6ebd",
   "metadata": {},
   "outputs": [
    {
     "data": {
      "text/plain": [
       "100    4\n",
       "200    4\n",
       "300    4\n",
       "dtype: int64"
      ]
     },
     "execution_count": 40,
     "metadata": {},
     "output_type": "execute_result"
    }
   ],
   "source": [
    "pd.Series(4, index=[100, 200, 300])"
   ]
  },
  {
   "cell_type": "code",
   "execution_count": 42,
   "id": "c77bd0e9-9229-4b34-bc51-a0b59bbf31ea",
   "metadata": {},
   "outputs": [
    {
     "data": {
      "text/plain": [
       "2    a\n",
       "1    b\n",
       "3    c\n",
       "dtype: object"
      ]
     },
     "execution_count": 42,
     "metadata": {},
     "output_type": "execute_result"
    }
   ],
   "source": [
    "pd.Series({2:\"a\",1:\"b\",3:\"c\"})"
   ]
  },
  {
   "cell_type": "markdown",
   "id": "d12bc7ef-4378-4c94-95ea-4f8748cac985",
   "metadata": {},
   "source": [
    "# PANDAS DATAFRAME OBJECT\n",
    "Generalization of a numpy array, or specialization of a Python dictionary\n",
    "\n",
    "Simply a numpy array with labelled rows and columns\n",
    "\n",
    "## DataFrame as Generalized Numpy Array\n",
    "### Refresher, series is a one dimensional array with explicity indices whereas a \n",
    " ### a DATAFRAME IS A TWO DIMENSIONAL ARRAY WITH ROW AND COLUMN INDICES"
   ]
  },
  {
   "cell_type": "code",
   "execution_count": 4,
   "id": "ab8c2fc4-86df-432b-8130-65d2bd48883b",
   "metadata": {},
   "outputs": [],
   "source": [
    "import numpy as np\n",
    "import pandas as pd\n",
    "population_dict = {\"California\":345667, \"Texas\":67654, \"Florida\":44555,\"New York\": 45566, \"Pennsylvania\": 123333}\n",
    "#converting to a pandas series\n",
    "\n",
    "population = pd.Series(population_dict)"
   ]
  },
  {
   "cell_type": "code",
   "execution_count": 5,
   "id": "abf7f0d7-e59b-401d-95ab-f25922b6590e",
   "metadata": {},
   "outputs": [],
   "source": [
    "area_dict = {\"California\": 434555, \"Texas\":543343, \"Florida\":12344, \"New York\": 141566, \"Pennsylvania\": 119334}\n",
    "area = pd.Series(area_dict)"
   ]
  },
  {
   "cell_type": "code",
   "execution_count": 10,
   "id": "48540f78-cf20-49f9-aa4c-5c92ec50e679",
   "metadata": {},
   "outputs": [
    {
     "name": "stdout",
     "output_type": "stream",
     "text": [
      "              population    area\n",
      "California        345667  434555\n",
      "Texas              67654  543343\n",
      "Florida            44555   12344\n",
      "New York           45566  141566\n",
      "Pennsylvania      123333  119334\n"
     ]
    }
   ],
   "source": [
    "# converting this to a pd.Dataframe\n",
    "states = pd.DataFrame({'population': population, 'area': area})\n",
    "print(states)"
   ]
  },
  {
   "cell_type": "code",
   "execution_count": 11,
   "id": "d20b4c34-b445-4b16-be02-708ace9723b5",
   "metadata": {},
   "outputs": [
    {
     "data": {
      "text/plain": [
       "Index(['California', 'Texas', 'Florida', 'New York', 'Pennsylvania'], dtype='object')"
      ]
     },
     "execution_count": 11,
     "metadata": {},
     "output_type": "execute_result"
    }
   ],
   "source": [
    "# Pandas DataFrame has an index attribute\n",
    "states.index"
   ]
  },
  {
   "cell_type": "code",
   "execution_count": 13,
   "id": "a882b828-5816-403e-83a0-b74e60ea138c",
   "metadata": {},
   "outputs": [
    {
     "data": {
      "text/plain": [
       "Index(['population', 'area'], dtype='object')"
      ]
     },
     "execution_count": 13,
     "metadata": {},
     "output_type": "execute_result"
    }
   ],
   "source": [
    "# Pandas dataframe has a columns attribute\n",
    "states.columns"
   ]
  },
  {
   "cell_type": "code",
   "execution_count": null,
   "id": "dbc78203-5d9c-47e3-8fe3-49332569ba3a",
   "metadata": {},
   "outputs": [],
   "source": []
  }
 ],
 "metadata": {
  "kernelspec": {
   "display_name": "Python 3 (ipykernel)",
   "language": "python",
   "name": "python3"
  },
  "language_info": {
   "codemirror_mode": {
    "name": "ipython",
    "version": 3
   },
   "file_extension": ".py",
   "mimetype": "text/x-python",
   "name": "python",
   "nbconvert_exporter": "python",
   "pygments_lexer": "ipython3",
   "version": "3.12.3"
  }
 },
 "nbformat": 4,
 "nbformat_minor": 5
}
