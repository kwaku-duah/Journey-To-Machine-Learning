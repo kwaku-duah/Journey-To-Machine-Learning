{
 "cells": [
  {
   "cell_type": "markdown",
   "id": "ec5652bf-6fc7-4e17-848d-56619e590d89",
   "metadata": {},
   "source": [
    "# PANDAS - Python Data Manipulation\n"
   ]
  },
  {
   "cell_type": "code",
   "execution_count": 1,
   "id": "e40bd8fe-2616-47fc-92ad-9eba06f6bb52",
   "metadata": {},
   "outputs": [
    {
     "name": "stdout",
     "output_type": "stream",
     "text": [
      "numpy-folder  pandas-folder  README.md\n"
     ]
    }
   ],
   "source": []
  }
 ],
 "metadata": {
  "kernelspec": {
   "display_name": "Python 3 (ipykernel)",
   "language": "python",
   "name": "python3"
  },
  "language_info": {
   "codemirror_mode": {
    "name": "ipython",
    "version": 3
   },
   "file_extension": ".py",
   "mimetype": "text/x-python",
   "name": "python",
   "nbconvert_exporter": "python",
   "pygments_lexer": "ipython3",
   "version": "3.12.3"
  }
 },
 "nbformat": 4,
 "nbformat_minor": 5
}
