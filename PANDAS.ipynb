{
 "cells": [
  {
   "cell_type": "markdown",
   "id": "ec5652bf-6fc7-4e17-848d-56619e590d89",
   "metadata": {},
   "source": [
    "# PANDAS - Python Data Manipulation\n"
   ]
  },
  {
   "cell_type": "code",
   "execution_count": 10,
   "id": "25373b4a-af3d-4220-851c-4810e5043949",
   "metadata": {},
   "outputs": [],
   "source": [
    "import numpy as np\n",
    "import pandas as pd"
   ]
  },
  {
   "cell_type": "markdown",
   "id": "09701b1e-c48a-4f38-84ff-a9102d0bb08d",
   "metadata": {},
   "source": [
    "# BASIC DATA STRUCTURES IN PANDAS\n",
    "~ DataFrame\n",
    "~ Series \n",
    "~ Index "
   ]
  },
  {
   "cell_type": "code",
   "execution_count": null,
   "id": "42e5a0ae-bb50-443e-8a05-b117c4f1a500",
   "metadata": {},
   "outputs": [],
   "source": []
  }
 ],
 "metadata": {
  "kernelspec": {
   "display_name": "Python 3 (ipykernel)",
   "language": "python",
   "name": "python3"
  },
  "language_info": {
   "codemirror_mode": {
    "name": "ipython",
    "version": 3
   },
   "file_extension": ".py",
   "mimetype": "text/x-python",
   "name": "python",
   "nbconvert_exporter": "python",
   "pygments_lexer": "ipython3",
   "version": "3.12.3"
  }
 },
 "nbformat": 4,
 "nbformat_minor": 5
}
